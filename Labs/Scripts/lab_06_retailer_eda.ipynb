{
  "cells": [
    {
      "cell_type": "markdown",
      "metadata": {
        "id": "9qUU0-4z3ydw"
      },
      "source": [
        "# IS 4487 Lab 6\n",
        "\n",
        "## Outline\n",
        "\n",
        "Repeat exercises from Lab 5, but with the *SuperStore Retail Orders* dataset.  Your target variable is total sales revenue.  \n",
        "\n",
        "\n",
        "<a href=\"https://colab.research.google.com/github/Stan-Pugsley/is_4487_base/blob/main/Labs/Scripts/lab_06_retailer_eda.ipynb\" target=\"_parent\"><img src=\"https://colab.research.google.com/assets/colab-badge.svg\" alt=\"Open In Colab\"/></a>"
      ]
    },
    {
      "cell_type": "markdown",
      "metadata": {
        "id": "Vd42aCR23ydy"
      },
      "source": [
        "## Superstore Data Dictionary\n",
        "\n",
        " ORDER VARIABLES:\n",
        " - Order ID\n",
        " - Order Date\n",
        " - Order Year Month - Year and month of the order\n",
        " - Order Type - Was the order completed at a store or online? (Retail, Online)\n",
        " - Quantity - Quantity ordered for the product\n",
        "\n",
        " CUSTOMER VARIABLES:\n",
        " - Customer Name\n",
        " - City\n",
        " - State Province\n",
        " - Email\n",
        "\n",
        "\n",
        "PRODUCT VARIABLES:\n",
        " - Product Name\n",
        " - Product Line - Category of the product (i.e. Bikes Phones)\n",
        " - Product Price - Price in US Dollars\n",
        " - Product Status - Current status of the product (Active, Inactive)"
      ]
    },
    {
      "cell_type": "markdown",
      "metadata": {
        "id": "ZdWUuZzi3ydy"
      },
      "source": [
        "## Load Libraries\n",
        "\n",
        "➡️ Assignment Tasks\n",
        "- Load any necessary libraries"
      ]
    },
    {
      "cell_type": "code",
      "execution_count": 13,
      "metadata": {
        "vscode": {
          "languageId": "plaintext"
        },
        "id": "86Af8eil3ydy"
      },
      "outputs": [],
      "source": [
        "import pandas as pd\n",
        "import matplotlib as mpl\n",
        "import sklearn as sl\n",
        "import numpy as np\n"
      ]
    },
    {
      "cell_type": "markdown",
      "metadata": {
        "id": "3xslJso_3ydy"
      },
      "source": [
        "## Import Data into Dataframe\n",
        "\n",
        "➡️ Assignment Tasks\n",
        "- Import data from the SuperStore retail dataset into a dataframe (in GitHub go to Labs > DataSets)\n",
        "- Describe or profile the dataframe.  \n",
        "- If your record count doesn't match the source file, then resolve the issue"
      ]
    },
    {
      "cell_type": "code",
      "execution_count": 15,
      "metadata": {
        "vscode": {
          "languageId": "plaintext"
        },
        "collapsed": true,
        "id": "oqBiuYLd3ydy",
        "outputId": "d32e252f-183e-4820-e244-28c4baacbdb3",
        "colab": {
          "base_uri": "https://localhost:8080/",
          "height": 662
        }
      },
      "outputs": [
        {
          "output_type": "stream",
          "name": "stdout",
          "text": [
            "<class 'pandas.core.frame.DataFrame'>\n",
            "RangeIndex: 56043 entries, 0 to 56042\n",
            "Data columns (total 13 columns):\n",
            " #   Column            Non-Null Count  Dtype  \n",
            "---  ------            --------------  -----  \n",
            " 0   order_id          56043 non-null  int64  \n",
            " 1   order_date        56011 non-null  object \n",
            " 2   order_year_month  56011 non-null  object \n",
            " 3   customer_name     56043 non-null  object \n",
            " 4   city              55569 non-null  object \n",
            " 5   state_province    55569 non-null  object \n",
            " 6   email             56043 non-null  object \n",
            " 7   order_type        56043 non-null  object \n",
            " 8   quantity          56004 non-null  float64\n",
            " 9   product_name      56043 non-null  object \n",
            " 10  product_line      56043 non-null  object \n",
            " 11  product_price     56043 non-null  float64\n",
            " 12  product_status    56043 non-null  object \n",
            "dtypes: float64(2), int64(1), object(10)\n",
            "memory usage: 5.6+ MB\n"
          ]
        },
        {
          "output_type": "execute_result",
          "data": {
            "text/plain": [
              "   order_id  order_date order_year_month  customer_name               city  \\\n",
              "0     51188  2023-07-01          2023-07  Audrey Blanco  North Cherylmouth   \n",
              "1     51187  2023-07-01          2023-07    Isaac Allen         Traceyland   \n",
              "2     51199  2023-07-02          2023-07     Ian Morgan          Dylanberg   \n",
              "3     51241  2023-07-04          2023-07     Alexa Bell     Lake Tracytown   \n",
              "4     51297  2023-07-08          2023-07     Casey Diaz        Byrdchester   \n",
              "\n",
              "  state_province                    email order_type  quantity  \\\n",
              "0  New Hampshire  audrey_blanco@email.com     Retail       3.0   \n",
              "1  West Virginia    isaac_allen@email.com     Online       4.0   \n",
              "2   South Dakota     ian_morgan@email.com     Online       5.0   \n",
              "3      Wisconsin     alexa_bell@email.com     Online       1.0   \n",
              "4    Mississippi     casey_diaz@email.com     Online       1.0   \n",
              "\n",
              "                                        product_name product_line  \\\n",
              "0  Apple iPhone XR (Yellow, 256 GB) (Includes Ear...       Mobile   \n",
              "1  Apple iPhone XR (Yellow, 256 GB) (Includes Ear...       Mobile   \n",
              "2  Apple iPhone XR (Yellow, 256 GB) (Includes Ear...       Mobile   \n",
              "3  Apple iPhone XR (Yellow, 256 GB) (Includes Ear...       Mobile   \n",
              "4  Apple iPhone XR (Yellow, 256 GB) (Includes Ear...       Mobile   \n",
              "\n",
              "   product_price product_status  \n",
              "0         649.99         Active  \n",
              "1         649.99         Active  \n",
              "2         649.99         Active  \n",
              "3         649.99         Active  \n",
              "4         649.99         Active  "
            ],
            "text/html": [
              "\n",
              "  <div id=\"df-d1952088-6ae5-473c-a176-acbb1c331176\" class=\"colab-df-container\">\n",
              "    <div>\n",
              "<style scoped>\n",
              "    .dataframe tbody tr th:only-of-type {\n",
              "        vertical-align: middle;\n",
              "    }\n",
              "\n",
              "    .dataframe tbody tr th {\n",
              "        vertical-align: top;\n",
              "    }\n",
              "\n",
              "    .dataframe thead th {\n",
              "        text-align: right;\n",
              "    }\n",
              "</style>\n",
              "<table border=\"1\" class=\"dataframe\">\n",
              "  <thead>\n",
              "    <tr style=\"text-align: right;\">\n",
              "      <th></th>\n",
              "      <th>order_id</th>\n",
              "      <th>order_date</th>\n",
              "      <th>order_year_month</th>\n",
              "      <th>customer_name</th>\n",
              "      <th>city</th>\n",
              "      <th>state_province</th>\n",
              "      <th>email</th>\n",
              "      <th>order_type</th>\n",
              "      <th>quantity</th>\n",
              "      <th>product_name</th>\n",
              "      <th>product_line</th>\n",
              "      <th>product_price</th>\n",
              "      <th>product_status</th>\n",
              "    </tr>\n",
              "  </thead>\n",
              "  <tbody>\n",
              "    <tr>\n",
              "      <th>0</th>\n",
              "      <td>51188</td>\n",
              "      <td>2023-07-01</td>\n",
              "      <td>2023-07</td>\n",
              "      <td>Audrey Blanco</td>\n",
              "      <td>North Cherylmouth</td>\n",
              "      <td>New Hampshire</td>\n",
              "      <td>audrey_blanco@email.com</td>\n",
              "      <td>Retail</td>\n",
              "      <td>3.0</td>\n",
              "      <td>Apple iPhone XR (Yellow, 256 GB) (Includes Ear...</td>\n",
              "      <td>Mobile</td>\n",
              "      <td>649.99</td>\n",
              "      <td>Active</td>\n",
              "    </tr>\n",
              "    <tr>\n",
              "      <th>1</th>\n",
              "      <td>51187</td>\n",
              "      <td>2023-07-01</td>\n",
              "      <td>2023-07</td>\n",
              "      <td>Isaac Allen</td>\n",
              "      <td>Traceyland</td>\n",
              "      <td>West Virginia</td>\n",
              "      <td>isaac_allen@email.com</td>\n",
              "      <td>Online</td>\n",
              "      <td>4.0</td>\n",
              "      <td>Apple iPhone XR (Yellow, 256 GB) (Includes Ear...</td>\n",
              "      <td>Mobile</td>\n",
              "      <td>649.99</td>\n",
              "      <td>Active</td>\n",
              "    </tr>\n",
              "    <tr>\n",
              "      <th>2</th>\n",
              "      <td>51199</td>\n",
              "      <td>2023-07-02</td>\n",
              "      <td>2023-07</td>\n",
              "      <td>Ian Morgan</td>\n",
              "      <td>Dylanberg</td>\n",
              "      <td>South Dakota</td>\n",
              "      <td>ian_morgan@email.com</td>\n",
              "      <td>Online</td>\n",
              "      <td>5.0</td>\n",
              "      <td>Apple iPhone XR (Yellow, 256 GB) (Includes Ear...</td>\n",
              "      <td>Mobile</td>\n",
              "      <td>649.99</td>\n",
              "      <td>Active</td>\n",
              "    </tr>\n",
              "    <tr>\n",
              "      <th>3</th>\n",
              "      <td>51241</td>\n",
              "      <td>2023-07-04</td>\n",
              "      <td>2023-07</td>\n",
              "      <td>Alexa Bell</td>\n",
              "      <td>Lake Tracytown</td>\n",
              "      <td>Wisconsin</td>\n",
              "      <td>alexa_bell@email.com</td>\n",
              "      <td>Online</td>\n",
              "      <td>1.0</td>\n",
              "      <td>Apple iPhone XR (Yellow, 256 GB) (Includes Ear...</td>\n",
              "      <td>Mobile</td>\n",
              "      <td>649.99</td>\n",
              "      <td>Active</td>\n",
              "    </tr>\n",
              "    <tr>\n",
              "      <th>4</th>\n",
              "      <td>51297</td>\n",
              "      <td>2023-07-08</td>\n",
              "      <td>2023-07</td>\n",
              "      <td>Casey Diaz</td>\n",
              "      <td>Byrdchester</td>\n",
              "      <td>Mississippi</td>\n",
              "      <td>casey_diaz@email.com</td>\n",
              "      <td>Online</td>\n",
              "      <td>1.0</td>\n",
              "      <td>Apple iPhone XR (Yellow, 256 GB) (Includes Ear...</td>\n",
              "      <td>Mobile</td>\n",
              "      <td>649.99</td>\n",
              "      <td>Active</td>\n",
              "    </tr>\n",
              "  </tbody>\n",
              "</table>\n",
              "</div>\n",
              "    <div class=\"colab-df-buttons\">\n",
              "\n",
              "  <div class=\"colab-df-container\">\n",
              "    <button class=\"colab-df-convert\" onclick=\"convertToInteractive('df-d1952088-6ae5-473c-a176-acbb1c331176')\"\n",
              "            title=\"Convert this dataframe to an interactive table.\"\n",
              "            style=\"display:none;\">\n",
              "\n",
              "  <svg xmlns=\"http://www.w3.org/2000/svg\" height=\"24px\" viewBox=\"0 -960 960 960\">\n",
              "    <path d=\"M120-120v-720h720v720H120Zm60-500h600v-160H180v160Zm220 220h160v-160H400v160Zm0 220h160v-160H400v160ZM180-400h160v-160H180v160Zm440 0h160v-160H620v160ZM180-180h160v-160H180v160Zm440 0h160v-160H620v160Z\"/>\n",
              "  </svg>\n",
              "    </button>\n",
              "\n",
              "  <style>\n",
              "    .colab-df-container {\n",
              "      display:flex;\n",
              "      gap: 12px;\n",
              "    }\n",
              "\n",
              "    .colab-df-convert {\n",
              "      background-color: #E8F0FE;\n",
              "      border: none;\n",
              "      border-radius: 50%;\n",
              "      cursor: pointer;\n",
              "      display: none;\n",
              "      fill: #1967D2;\n",
              "      height: 32px;\n",
              "      padding: 0 0 0 0;\n",
              "      width: 32px;\n",
              "    }\n",
              "\n",
              "    .colab-df-convert:hover {\n",
              "      background-color: #E2EBFA;\n",
              "      box-shadow: 0px 1px 2px rgba(60, 64, 67, 0.3), 0px 1px 3px 1px rgba(60, 64, 67, 0.15);\n",
              "      fill: #174EA6;\n",
              "    }\n",
              "\n",
              "    .colab-df-buttons div {\n",
              "      margin-bottom: 4px;\n",
              "    }\n",
              "\n",
              "    [theme=dark] .colab-df-convert {\n",
              "      background-color: #3B4455;\n",
              "      fill: #D2E3FC;\n",
              "    }\n",
              "\n",
              "    [theme=dark] .colab-df-convert:hover {\n",
              "      background-color: #434B5C;\n",
              "      box-shadow: 0px 1px 3px 1px rgba(0, 0, 0, 0.15);\n",
              "      filter: drop-shadow(0px 1px 2px rgba(0, 0, 0, 0.3));\n",
              "      fill: #FFFFFF;\n",
              "    }\n",
              "  </style>\n",
              "\n",
              "    <script>\n",
              "      const buttonEl =\n",
              "        document.querySelector('#df-d1952088-6ae5-473c-a176-acbb1c331176 button.colab-df-convert');\n",
              "      buttonEl.style.display =\n",
              "        google.colab.kernel.accessAllowed ? 'block' : 'none';\n",
              "\n",
              "      async function convertToInteractive(key) {\n",
              "        const element = document.querySelector('#df-d1952088-6ae5-473c-a176-acbb1c331176');\n",
              "        const dataTable =\n",
              "          await google.colab.kernel.invokeFunction('convertToInteractive',\n",
              "                                                    [key], {});\n",
              "        if (!dataTable) return;\n",
              "\n",
              "        const docLinkHtml = 'Like what you see? Visit the ' +\n",
              "          '<a target=\"_blank\" href=https://colab.research.google.com/notebooks/data_table.ipynb>data table notebook</a>'\n",
              "          + ' to learn more about interactive tables.';\n",
              "        element.innerHTML = '';\n",
              "        dataTable['output_type'] = 'display_data';\n",
              "        await google.colab.output.renderOutput(dataTable, element);\n",
              "        const docLink = document.createElement('div');\n",
              "        docLink.innerHTML = docLinkHtml;\n",
              "        element.appendChild(docLink);\n",
              "      }\n",
              "    </script>\n",
              "  </div>\n",
              "\n",
              "\n",
              "<div id=\"df-80d33dc5-c130-4c4b-8b73-e6d3ebcfa596\">\n",
              "  <button class=\"colab-df-quickchart\" onclick=\"quickchart('df-80d33dc5-c130-4c4b-8b73-e6d3ebcfa596')\"\n",
              "            title=\"Suggest charts\"\n",
              "            style=\"display:none;\">\n",
              "\n",
              "<svg xmlns=\"http://www.w3.org/2000/svg\" height=\"24px\"viewBox=\"0 0 24 24\"\n",
              "     width=\"24px\">\n",
              "    <g>\n",
              "        <path d=\"M19 3H5c-1.1 0-2 .9-2 2v14c0 1.1.9 2 2 2h14c1.1 0 2-.9 2-2V5c0-1.1-.9-2-2-2zM9 17H7v-7h2v7zm4 0h-2V7h2v10zm4 0h-2v-4h2v4z\"/>\n",
              "    </g>\n",
              "</svg>\n",
              "  </button>\n",
              "\n",
              "<style>\n",
              "  .colab-df-quickchart {\n",
              "      --bg-color: #E8F0FE;\n",
              "      --fill-color: #1967D2;\n",
              "      --hover-bg-color: #E2EBFA;\n",
              "      --hover-fill-color: #174EA6;\n",
              "      --disabled-fill-color: #AAA;\n",
              "      --disabled-bg-color: #DDD;\n",
              "  }\n",
              "\n",
              "  [theme=dark] .colab-df-quickchart {\n",
              "      --bg-color: #3B4455;\n",
              "      --fill-color: #D2E3FC;\n",
              "      --hover-bg-color: #434B5C;\n",
              "      --hover-fill-color: #FFFFFF;\n",
              "      --disabled-bg-color: #3B4455;\n",
              "      --disabled-fill-color: #666;\n",
              "  }\n",
              "\n",
              "  .colab-df-quickchart {\n",
              "    background-color: var(--bg-color);\n",
              "    border: none;\n",
              "    border-radius: 50%;\n",
              "    cursor: pointer;\n",
              "    display: none;\n",
              "    fill: var(--fill-color);\n",
              "    height: 32px;\n",
              "    padding: 0;\n",
              "    width: 32px;\n",
              "  }\n",
              "\n",
              "  .colab-df-quickchart:hover {\n",
              "    background-color: var(--hover-bg-color);\n",
              "    box-shadow: 0 1px 2px rgba(60, 64, 67, 0.3), 0 1px 3px 1px rgba(60, 64, 67, 0.15);\n",
              "    fill: var(--button-hover-fill-color);\n",
              "  }\n",
              "\n",
              "  .colab-df-quickchart-complete:disabled,\n",
              "  .colab-df-quickchart-complete:disabled:hover {\n",
              "    background-color: var(--disabled-bg-color);\n",
              "    fill: var(--disabled-fill-color);\n",
              "    box-shadow: none;\n",
              "  }\n",
              "\n",
              "  .colab-df-spinner {\n",
              "    border: 2px solid var(--fill-color);\n",
              "    border-color: transparent;\n",
              "    border-bottom-color: var(--fill-color);\n",
              "    animation:\n",
              "      spin 1s steps(1) infinite;\n",
              "  }\n",
              "\n",
              "  @keyframes spin {\n",
              "    0% {\n",
              "      border-color: transparent;\n",
              "      border-bottom-color: var(--fill-color);\n",
              "      border-left-color: var(--fill-color);\n",
              "    }\n",
              "    20% {\n",
              "      border-color: transparent;\n",
              "      border-left-color: var(--fill-color);\n",
              "      border-top-color: var(--fill-color);\n",
              "    }\n",
              "    30% {\n",
              "      border-color: transparent;\n",
              "      border-left-color: var(--fill-color);\n",
              "      border-top-color: var(--fill-color);\n",
              "      border-right-color: var(--fill-color);\n",
              "    }\n",
              "    40% {\n",
              "      border-color: transparent;\n",
              "      border-right-color: var(--fill-color);\n",
              "      border-top-color: var(--fill-color);\n",
              "    }\n",
              "    60% {\n",
              "      border-color: transparent;\n",
              "      border-right-color: var(--fill-color);\n",
              "    }\n",
              "    80% {\n",
              "      border-color: transparent;\n",
              "      border-right-color: var(--fill-color);\n",
              "      border-bottom-color: var(--fill-color);\n",
              "    }\n",
              "    90% {\n",
              "      border-color: transparent;\n",
              "      border-bottom-color: var(--fill-color);\n",
              "    }\n",
              "  }\n",
              "</style>\n",
              "\n",
              "  <script>\n",
              "    async function quickchart(key) {\n",
              "      const quickchartButtonEl =\n",
              "        document.querySelector('#' + key + ' button');\n",
              "      quickchartButtonEl.disabled = true;  // To prevent multiple clicks.\n",
              "      quickchartButtonEl.classList.add('colab-df-spinner');\n",
              "      try {\n",
              "        const charts = await google.colab.kernel.invokeFunction(\n",
              "            'suggestCharts', [key], {});\n",
              "      } catch (error) {\n",
              "        console.error('Error during call to suggestCharts:', error);\n",
              "      }\n",
              "      quickchartButtonEl.classList.remove('colab-df-spinner');\n",
              "      quickchartButtonEl.classList.add('colab-df-quickchart-complete');\n",
              "    }\n",
              "    (() => {\n",
              "      let quickchartButtonEl =\n",
              "        document.querySelector('#df-80d33dc5-c130-4c4b-8b73-e6d3ebcfa596 button');\n",
              "      quickchartButtonEl.style.display =\n",
              "        google.colab.kernel.accessAllowed ? 'block' : 'none';\n",
              "    })();\n",
              "  </script>\n",
              "</div>\n",
              "\n",
              "    </div>\n",
              "  </div>\n"
            ],
            "application/vnd.google.colaboratory.intrinsic+json": {
              "type": "dataframe",
              "variable_name": "df",
              "summary": "{\n  \"name\": \"df\",\n  \"rows\": 56043,\n  \"fields\": [\n    {\n      \"column\": \"order_id\",\n      \"properties\": {\n        \"dtype\": \"number\",\n        \"std\": 7508,\n        \"min\": 45079,\n        \"max\": 74147,\n        \"num_unique_values\": 25162,\n        \"samples\": [\n          55942,\n          69131,\n          71187\n        ],\n        \"semantic_type\": \"\",\n        \"description\": \"\"\n      }\n    },\n    {\n      \"column\": \"order_date\",\n      \"properties\": {\n        \"dtype\": \"category\",\n        \"num_unique_values\": 947,\n        \"samples\": [\n          \"2023-06-26\",\n          \"2022-05-29\",\n          \"2024-03-06\"\n        ],\n        \"semantic_type\": \"\",\n        \"description\": \"\"\n      }\n    },\n    {\n      \"column\": \"order_year_month\",\n      \"properties\": {\n        \"dtype\": \"category\",\n        \"num_unique_values\": 35,\n        \"samples\": [\n          \"2023-05\",\n          \"1922-06\",\n          \"2023-03\"\n        ],\n        \"semantic_type\": \"\",\n        \"description\": \"\"\n      }\n    },\n    {\n      \"column\": \"customer_name\",\n      \"properties\": {\n        \"dtype\": \"category\",\n        \"num_unique_values\": 17343,\n        \"samples\": [\n          \"Caroline Patterson\",\n          \"Kevin Gonzales\",\n          \"Edwin Rai\"\n        ],\n        \"semantic_type\": \"\",\n        \"description\": \"\"\n      }\n    },\n    {\n      \"column\": \"city\",\n      \"properties\": {\n        \"dtype\": \"category\",\n        \"num_unique_values\": 11920,\n        \"samples\": [\n          \"Port Juanbury\",\n          \"South Tammyberg\",\n          \"East Cassandra\"\n        ],\n        \"semantic_type\": \"\",\n        \"description\": \"\"\n      }\n    },\n    {\n      \"column\": \"state_province\",\n      \"properties\": {\n        \"dtype\": \"category\",\n        \"num_unique_values\": 59,\n        \"samples\": [\n          \"New Hampshire\",\n          \"Ohio\",\n          \"Arizona\"\n        ],\n        \"semantic_type\": \"\",\n        \"description\": \"\"\n      }\n    },\n    {\n      \"column\": \"email\",\n      \"properties\": {\n        \"dtype\": \"category\",\n        \"num_unique_values\": 17343,\n        \"samples\": [\n          \"caroline_patterson@email.com\",\n          \"kevin_gonzales@email.com\",\n          \"edwin_rai@email.com\"\n        ],\n        \"semantic_type\": \"\",\n        \"description\": \"\"\n      }\n    },\n    {\n      \"column\": \"order_type\",\n      \"properties\": {\n        \"dtype\": \"category\",\n        \"num_unique_values\": 2,\n        \"samples\": [\n          \"Online\",\n          \"Retail\"\n        ],\n        \"semantic_type\": \"\",\n        \"description\": \"\"\n      }\n    },\n    {\n      \"column\": \"quantity\",\n      \"properties\": {\n        \"dtype\": \"number\",\n        \"std\": 422.65411152714233,\n        \"min\": 1.0,\n        \"max\": 100000.0,\n        \"num_unique_values\": 12,\n        \"samples\": [\n          500.0,\n          20.0\n        ],\n        \"semantic_type\": \"\",\n        \"description\": \"\"\n      }\n    },\n    {\n      \"column\": \"product_name\",\n      \"properties\": {\n        \"dtype\": \"category\",\n        \"num_unique_values\": 131,\n        \"samples\": [\n          \"Short-Sleeve Classic Jersey, XL\",\n          \"Touring-1000 Yellow, 60\"\n        ],\n        \"semantic_type\": \"\",\n        \"description\": \"\"\n      }\n    },\n    {\n      \"column\": \"product_line\",\n      \"properties\": {\n        \"dtype\": \"category\",\n        \"num_unique_values\": 9,\n        \"samples\": [\n          \"Laptop\",\n          \"Bikes\"\n        ],\n        \"semantic_type\": \"\",\n        \"description\": \"\"\n      }\n    },\n    {\n      \"column\": \"product_price\",\n      \"properties\": {\n        \"dtype\": \"number\",\n        \"std\": 35784.96525503667,\n        \"min\": 2.29,\n        \"max\": 235481.0,\n        \"num_unique_values\": 45,\n        \"samples\": [\n          699.1,\n          120.0\n        ],\n        \"semantic_type\": \"\",\n        \"description\": \"\"\n      }\n    },\n    {\n      \"column\": \"product_status\",\n      \"properties\": {\n        \"dtype\": \"category\",\n        \"num_unique_values\": 2,\n        \"samples\": [\n          \"Not Active\",\n          \"Active\"\n        ],\n        \"semantic_type\": \"\",\n        \"description\": \"\"\n      }\n    }\n  ]\n}"
            }
          },
          "metadata": {},
          "execution_count": 15
        }
      ],
      "source": [
        "df = pd.read_csv('https://github.com/Stan-Pugsley/is_4487_base/blob/main/Labs/DataSets/superstore_retail_orders.csv?raw=true')\n",
        "df.describe()\n",
        "df.info()\n",
        "df.head()"
      ]
    },
    {
      "cell_type": "markdown",
      "metadata": {
        "id": "5ezCO98y3ydy"
      },
      "source": [
        "## Prepare Data\n",
        "\n",
        "➡️ Assignment Tasks\n",
        "- Convert any numbers into the correct datatype if they are not already numeric\n",
        "- Convert any character variables in to categories if they are appropriate for that datatype\n",
        "- Check for outliers.   Remove any outliers that appear to be mistakes\n",
        "- Remove rows with empty (NULL) values\n",
        "- Create a total_amount variable, based on the product price and quantity"
      ]
    },
    {
      "cell_type": "code",
      "source": [
        "# prompt: make a clean df for the df that I imported and change the order_type column to a category, product_line and city and state_province to category\n",
        "\n",
        "# Convert 'Order Type', 'Product Line', 'City', and 'State Province' to category dtype\n",
        "df['order_type'] = df['order_type'].astype('category')\n",
        "df['product_line'] = df['product_line'].astype('category')\n",
        "df['city'] = df['city'].astype('category')\n",
        "df['state_province'] = df['state_province'].astype('category')\n",
        "\n",
        "# Display info to verify changes\n",
        "df.info()\n"
      ],
      "metadata": {
        "id": "MOWndOI78Ypu",
        "outputId": "161b2ad4-11f5-42a5-dd51-36edef944776",
        "colab": {
          "base_uri": "https://localhost:8080/"
        }
      },
      "execution_count": 18,
      "outputs": [
        {
          "output_type": "stream",
          "name": "stdout",
          "text": [
            "<class 'pandas.core.frame.DataFrame'>\n",
            "RangeIndex: 56043 entries, 0 to 56042\n",
            "Data columns (total 13 columns):\n",
            " #   Column            Non-Null Count  Dtype   \n",
            "---  ------            --------------  -----   \n",
            " 0   order_id          56043 non-null  int64   \n",
            " 1   order_date        56011 non-null  object  \n",
            " 2   order_year_month  56011 non-null  object  \n",
            " 3   customer_name     56043 non-null  object  \n",
            " 4   city              55569 non-null  category\n",
            " 5   state_province    55569 non-null  category\n",
            " 6   email             56043 non-null  object  \n",
            " 7   order_type        56043 non-null  category\n",
            " 8   quantity          56004 non-null  float64 \n",
            " 9   product_name      56043 non-null  object  \n",
            " 10  product_line      56043 non-null  category\n",
            " 11  product_price     56043 non-null  float64 \n",
            " 12  product_status    56043 non-null  object  \n",
            "dtypes: category(4), float64(2), int64(1), object(6)\n",
            "memory usage: 4.5+ MB\n"
          ]
        }
      ]
    },
    {
      "cell_type": "code",
      "source": [],
      "metadata": {
        "id": "jWoqJ2GH7pTU"
      },
      "execution_count": null,
      "outputs": []
    },
    {
      "cell_type": "markdown",
      "metadata": {
        "id": "gl3Kdfc23ydz"
      },
      "source": [
        "## Create Basic Charts\n",
        "\n",
        "➡️ Assignment Tasks\n",
        "Your target variable is Total Sales Revenue\n",
        "\n",
        "Create at least three charts showing revenue broken out by another variable.  \n",
        "\n",
        "Each visualization should bring some insight into the total sales. You can use any variables for these sample plots."
      ]
    },
    {
      "cell_type": "code",
      "execution_count": null,
      "metadata": {
        "vscode": {
          "languageId": "plaintext"
        },
        "id": "Eyk4tnlJ3ydz"
      },
      "outputs": [],
      "source": [
        "#chart 1"
      ]
    },
    {
      "cell_type": "code",
      "execution_count": null,
      "metadata": {
        "vscode": {
          "languageId": "plaintext"
        },
        "id": "mk8xk6Ap3ydz"
      },
      "outputs": [],
      "source": [
        "#chart 2"
      ]
    },
    {
      "cell_type": "code",
      "execution_count": null,
      "metadata": {
        "vscode": {
          "languageId": "plaintext"
        },
        "id": "o5E7_2Vx3ydz"
      },
      "outputs": [],
      "source": [
        "#chart 3"
      ]
    },
    {
      "cell_type": "markdown",
      "metadata": {
        "id": "Z9tdlLO33ydz"
      },
      "source": [
        "## Covariance\n",
        "\n",
        "➡️ Assignment Task\n",
        "- Create a covariance matrix using all of the applicable independent variables\n",
        "- In 100 words or less, describe what insight you can derive from the covariance matrix.  What does it tell us about the data?  \n"
      ]
    },
    {
      "cell_type": "code",
      "execution_count": null,
      "metadata": {
        "vscode": {
          "languageId": "plaintext"
        },
        "id": "1EG3BtUG3ydz"
      },
      "outputs": [],
      "source": [
        "#matrix"
      ]
    }
  ],
  "metadata": {
    "language_info": {
      "name": "python"
    },
    "colab": {
      "provenance": []
    },
    "kernelspec": {
      "name": "python3",
      "display_name": "Python 3"
    }
  },
  "nbformat": 4,
  "nbformat_minor": 0
}